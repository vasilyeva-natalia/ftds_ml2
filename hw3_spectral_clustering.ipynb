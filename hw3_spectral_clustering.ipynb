{
 "cells": [
  {
   "cell_type": "markdown",
   "metadata": {
    "id": "zO9xBTNBJ4eX"
   },
   "source": [
    "## Simple examples"
   ]
  },
  {
   "cell_type": "code",
   "execution_count": null,
   "metadata": {
    "colab": {
     "base_uri": "https://localhost:8080/"
    },
    "id": "JAsC7xeEJ4ek",
    "outputId": "754f1b34-8922-458b-d5fe-71d0b0278633"
   },
   "outputs": [
    {
     "data": {
      "text/plain": [
       "array([1, 1, 1, 0, 0, 0])"
      ]
     },
     "execution_count": 1,
     "metadata": {},
     "output_type": "execute_result"
    }
   ],
   "source": [
    "from sklearn.cluster import SpectralClustering\n",
    "\n",
    "import numpy as np\n",
    "X = np.array([\n",
    "    [1, 1], [2, 1], [1, 0], [4, 7], [3, 5], [3, 6]\n",
    "])\n",
    "\n",
    "clustering = SpectralClustering(\n",
    "    n_clusters=2,\n",
    "    assign_labels=\"discretize\",\n",
    "    random_state=0\n",
    ").fit(X)\n",
    "clustering.labels_"
   ]
  },
  {
   "cell_type": "code",
   "execution_count": null,
   "metadata": {
    "colab": {
     "base_uri": "https://localhost:8080/"
    },
    "id": "UPe20POlJ4er",
    "outputId": "21642fcf-3de3-4c2f-aa71-170b45e1a2c3"
   },
   "outputs": [
    {
     "data": {
      "text/plain": [
       "array([1, 0, 0])"
      ]
     },
     "execution_count": 2,
     "metadata": {},
     "output_type": "execute_result"
    }
   ],
   "source": [
    "X = np.array([\n",
    "    [1, 2, 3],\n",
    "    [2, 3, 4],\n",
    "    [3, 4, 5],\n",
    "])\n",
    "\n",
    "clustering = SpectralClustering(\n",
    "    n_clusters=2,\n",
    "    random_state=0,\n",
    "    assign_labels=\"discretize\",\n",
    "    affinity='precomputed'\n",
    ").fit(X)\n",
    "clustering.labels_"
   ]
  },
  {
   "cell_type": "markdown",
   "metadata": {
    "id": "tbQswORaJ4ev"
   },
   "source": [
    "## Playing with text data"
   ]
  },
  {
   "cell_type": "code",
   "execution_count": null,
   "metadata": {
    "id": "3tRvitsqJ4ey"
   },
   "outputs": [],
   "source": [
    "import tensorflow_hub as hub\n",
    "embed = hub.load(\"https://tfhub.dev/google/universal-sentence-encoder/4\")"
   ]
  },
  {
   "cell_type": "code",
   "execution_count": null,
   "metadata": {
    "colab": {
     "base_uri": "https://localhost:8080/"
    },
    "id": "yjEmIHKdJ4e0",
    "outputId": "595728ac-933e-4616-fbe8-d7ea7e0d7f3d"
   },
   "outputs": [
    {
     "name": "stderr",
     "output_type": "stream",
     "text": [
      "Downloading 20news dataset. This may take a few minutes.\n",
      "INFO:sklearn.datasets._twenty_newsgroups:Downloading 20news dataset. This may take a few minutes.\n",
      "Downloading dataset from https://ndownloader.figshare.com/files/5975967 (14 MB)\n",
      "INFO:sklearn.datasets._twenty_newsgroups:Downloading dataset from https://ndownloader.figshare.com/files/5975967 (14 MB)\n"
     ]
    },
    {
     "name": "stdout",
     "output_type": "stream",
     "text": [
      "From: lerxst@wam.umd.edu (where's my thing)\n",
      "Subject: WHAT car is this!?\n",
      "Nntp-Posting-Host: rac3.wam.umd.edu\n",
      "Organization: University of Maryland, College Park\n",
      "Lines: 15\n",
      "\n",
      " I was wondering if anyone out there could enlighten me on this car I saw\n",
      "the other day. It was a 2-door sports car, looked to be from the late 60s/\n",
      "early 70s. It was called a Bricklin. The doors were really small. In addition,\n",
      "the front bumper was separate from the rest of the body. This is \n",
      "all I know. If anyone can tellme a model name, engine specs, years\n",
      "of production, where this car is made, history, or whatever info you\n",
      "have on this funky looking car, please e-mail.\n",
      "\n",
      "Thanks,\n",
      "- IL\n",
      "   ---- brought to you by your neighborhood Lerxst ----\n",
      "\n",
      "\n",
      "\n",
      "\n",
      "\n"
     ]
    }
   ],
   "source": [
    "from sklearn.datasets import fetch_20newsgroups\n",
    "newsgroups_train = fetch_20newsgroups(subset='train')\n",
    "\n",
    "print(newsgroups_train.data[0])"
   ]
  },
  {
   "cell_type": "code",
   "execution_count": null,
   "metadata": {
    "colab": {
     "base_uri": "https://localhost:8080/"
    },
    "id": "Wt1qSbM3J4e4",
    "outputId": "b82a112d-88c3-4e71-973a-d7aeed7ff1f6"
   },
   "outputs": [
    {
     "name": "stderr",
     "output_type": "stream",
     "text": [
      "100%|██████████| 11314/11314 [01:05<00:00, 172.44it/s]\n"
     ]
    }
   ],
   "source": [
    "from tqdm import tqdm\n",
    "import numpy as np\n",
    "\n",
    "embeddings = []\n",
    "\n",
    "for t in tqdm(newsgroups_train.data):\n",
    "    emb = embed([t])\n",
    "    embeddings.append(emb.numpy())"
   ]
  },
  {
   "cell_type": "code",
   "execution_count": null,
   "metadata": {
    "id": "hx8gMoyDJ4e7"
   },
   "outputs": [],
   "source": [
    "from sklearn.decomposition import PCA\n",
    "\n",
    "vectors = np.concatenate(embeddings)\n",
    "pca = PCA(n_components=None)\n",
    "vectors_pca = pca.fit_transform(vectors)\n",
    "n = sum(np.cumsum(pca.explained_variance_ratio_) < 0.95)\n",
    "np.sum(pca.explained_variance_ratio_[:n+1])\n",
    "vectors_pca = vectors_pca[:, :n+1]"
   ]
  },
  {
   "cell_type": "code",
   "execution_count": null,
   "metadata": {
    "colab": {
     "base_uri": "https://localhost:8080/"
    },
    "id": "_5EDv_78J4e_",
    "outputId": "d7e711a8-53de-4d02-b141-8f91844996eb"
   },
   "outputs": [
    {
     "data": {
      "text/plain": [
       "array([11,  4, 11, ...,  4, 10,  3])"
      ]
     },
     "execution_count": 9,
     "metadata": {},
     "output_type": "execute_result"
    }
   ],
   "source": [
    "clustering = SpectralClustering(\n",
    "    n_clusters=len(newsgroups_train.target_names),\n",
    "    assign_labels=\"discretize\",\n",
    "    random_state=0\n",
    ").fit(vectors_pca)\n",
    "clustering.labels_"
   ]
  },
  {
   "cell_type": "code",
   "execution_count": null,
   "metadata": {
    "colab": {
     "base_uri": "https://localhost:8080/"
    },
    "id": "Q08ukIWNJ4fB",
    "outputId": "9e038da0-d61f-4594-a9ad-f1c5b249b6f4"
   },
   "outputs": [
    {
     "data": {
      "text/plain": [
       "['alt.atheism',\n",
       " 'comp.graphics',\n",
       " 'comp.os.ms-windows.misc',\n",
       " 'comp.sys.ibm.pc.hardware',\n",
       " 'comp.sys.mac.hardware',\n",
       " 'comp.windows.x',\n",
       " 'misc.forsale',\n",
       " 'rec.autos',\n",
       " 'rec.motorcycles',\n",
       " 'rec.sport.baseball',\n",
       " 'rec.sport.hockey',\n",
       " 'sci.crypt',\n",
       " 'sci.electronics',\n",
       " 'sci.med',\n",
       " 'sci.space',\n",
       " 'soc.religion.christian',\n",
       " 'talk.politics.guns',\n",
       " 'talk.politics.mideast',\n",
       " 'talk.politics.misc',\n",
       " 'talk.religion.misc']"
      ]
     },
     "execution_count": 10,
     "metadata": {},
     "output_type": "execute_result"
    }
   ],
   "source": [
    "newsgroups_train.target_names"
   ]
  },
  {
   "cell_type": "markdown",
   "metadata": {
    "id": "BAMkpbLrJ4fC"
   },
   "source": [
    "1) check clusterization quality based on b-cubed\n",
    "\n",
    "2) find and read the article that descirbes 'assign_labels=\"discretize\"' params [optionally]\n",
    "\n",
    "3) do we need pca at all? [optionally]"
   ]
  },
  {
   "cell_type": "markdown",
   "metadata": {
    "id": "fZIYc2TTECBZ"
   },
   "source": [
    "### 1. B-cubed metric for clusterization quality."
   ]
  },
  {
   "cell_type": "code",
   "execution_count": 11,
   "metadata": {
    "colab": {
     "base_uri": "https://localhost:8080/"
    },
    "id": "zJgnjl3ZJ4fE",
    "outputId": "ff9c46b0-1607-4464-972a-1acb9dadc068"
   },
   "outputs": [
    {
     "name": "stdout",
     "output_type": "stream",
     "text": [
      "Collecting bcubed\n",
      "  Downloading bcubed-1.5-py2.py3-none-any.whl (8.7 kB)\n",
      "Requirement already satisfied: numpy in /usr/local/lib/python3.7/dist-packages (from bcubed) (1.19.5)\n",
      "Installing collected packages: bcubed\n",
      "Successfully installed bcubed-1.5\n"
     ]
    }
   ],
   "source": [
    "# Take implementation for bcubed.\n",
    "!pip install bcubed\n",
    "\n",
    "# Source: https://github.com/hhromic/python-bcubed"
   ]
  },
  {
   "cell_type": "code",
   "execution_count": 80,
   "metadata": {
    "id": "kWPuDHyFG_Sz"
   },
   "outputs": [],
   "source": [
    "from sklearn.metrics import f1_score\n",
    "from sklearn.preprocessing import LabelEncoder\n",
    "import bcubed\n",
    "import time"
   ]
  },
  {
   "cell_type": "code",
   "execution_count": null,
   "metadata": {
    "id": "j9963m6Dt7yO"
   },
   "outputs": [],
   "source": [
    "# Dataset description.\n",
    "print(newsgroups_train.DESCR)"
   ]
  },
  {
   "cell_type": "code",
   "execution_count": 45,
   "metadata": {
    "id": "5wMbUMpAG67z"
   },
   "outputs": [],
   "source": [
    "# Function for computing BCubed metrics for clusterization.\n",
    "\n",
    "def compute_bcubed(gold_lst, predicted_lst):\n",
    "    \"\"\"\n",
    "    Takes gold standard, predicted.\n",
    "    Returns recall, precision, f1score\n",
    "    \"\"\"\n",
    "    gold = {i: {cluster} for i, cluster in enumerate(gold_lst)}\n",
    "    pred = {i: {cluster} for i, cluster in enumerate(predicted_lst)}\n",
    "    precision = bcubed.precision(pred, gold)\n",
    "    recall = bcubed.recall(pred, gold)\n",
    "    f_score = bcubed.fscore(precision, recall)\n",
    "    return precision, recall, f_score\n",
    "\n",
    "# https://github.com/hhromic/python-bcubed/blob/master/example.py\n",
    "# https://python.hotexamples.com/examples/bcubed/-/precision/python-precision-function-examples.html"
   ]
  },
  {
   "cell_type": "code",
   "execution_count": 46,
   "metadata": {
    "colab": {
     "base_uri": "https://localhost:8080/"
    },
    "id": "cxQ1RssLGcze",
    "outputId": "c1b96436-419e-4649-c6e8-3b07eb32dd88"
   },
   "outputs": [
    {
     "name": "stdout",
     "output_type": "stream",
     "text": [
      "F1-score: 0.067\n",
      "Precision-BCubed: 0.400, Recall-BCubed: 0.376, F-BCubed: 0.388,\n"
     ]
    }
   ],
   "source": [
    "le = LabelEncoder()\n",
    "y_true = le.fit_transform(newsgroups_train.target)\n",
    "\n",
    "y_pred = clustering.labels_\n",
    "# f1 = f1_score(y_pred, y_true, average='macro')\n",
    "f1 = f1_score(y_pred, newsgroups_train.target, average='macro')\n",
    "precision_bc, recall_bc, f_bc = compute_bcubed(newsgroups_train.target, y_pred)\n",
    "print('F1-score: {:.3f}'.format(f1))\n",
    "print('Precision-BCubed: {:.3f}, Recall-BCubed: {:.3f}, F-BCubed: {:.3f},'.format(precision_bc, recall_bc, f_bc))"
   ]
  },
  {
   "cell_type": "code",
   "execution_count": 20,
   "metadata": {
    "id": "BUggBE60D-Fq"
   },
   "outputs": [],
   "source": [
    "# Loading test dataset\n",
    "newsgroups_test = fetch_20newsgroups(subset='test')"
   ]
  },
  {
   "cell_type": "code",
   "execution_count": 48,
   "metadata": {
    "colab": {
     "base_uri": "https://localhost:8080/"
    },
    "id": "TWFAW_twFFsA",
    "outputId": "89f36030-2cfb-4cab-fb55-1c56fdefbd62"
   },
   "outputs": [
    {
     "name": "stderr",
     "output_type": "stream",
     "text": [
      "100%|██████████| 7532/7532 [00:41<00:00, 181.05it/s]\n"
     ]
    }
   ],
   "source": [
    "# Do all the transforamtions for the test dataset as for the training one.\n",
    "embeddings_test = []\n",
    "\n",
    "for t in tqdm(newsgroups_test.data):\n",
    "    emb = embed([t])\n",
    "    embeddings_test.append(emb.numpy())\n",
    "\n",
    "vectors_te = np.concatenate(embeddings_test)\n",
    "vectors_pca_te = pca.transform(vectors_te)\n",
    "vectors_pca_te = vectors_pca_te[:, :n+1]"
   ]
  },
  {
   "cell_type": "code",
   "execution_count": 49,
   "metadata": {
    "colab": {
     "base_uri": "https://localhost:8080/"
    },
    "id": "2uqHDGzgi9pY",
    "outputId": "f03c7aff-da4f-4d75-e87c-930ee3efbab3"
   },
   "outputs": [
    {
     "data": {
      "text/plain": [
       "array([12, 14,  7, ...,  4,  0,  7])"
      ]
     },
     "execution_count": 49,
     "metadata": {},
     "output_type": "execute_result"
    }
   ],
   "source": [
    "# Predictions for test dataset.\n",
    "pred_test = clustering.fit_predict(vectors_pca_te)\n",
    "pred_test"
   ]
  },
  {
   "cell_type": "code",
   "execution_count": 50,
   "metadata": {
    "colab": {
     "base_uri": "https://localhost:8080/"
    },
    "id": "sQZ1mJgbt4dZ",
    "outputId": "8ba773cf-ddac-4861-d5ae-75a953c7e4e0"
   },
   "outputs": [
    {
     "name": "stdout",
     "output_type": "stream",
     "text": [
      "Test dataset\n",
      "F1-score: 0.021\n",
      "Precision-BCubed: 0.424, Recall-BCubed: 0.415, F-BCubed: 0.419,\n"
     ]
    }
   ],
   "source": [
    "f1 = f1_score(pred_test, newsgroups_test.target, average='macro')\n",
    "precision_bc, recall_bc, f_bc = compute_bcubed(newsgroups_test.target, pred_test)\n",
    "print('Test dataset')\n",
    "print('F1-score: {:.3f}'.format(f1))\n",
    "print('Precision-BCubed: {:.3f}, Recall-BCubed: {:.3f}, F-BCubed: {:.3f},'.format(precision_bc, recall_bc, f_bc))"
   ]
  },
  {
   "cell_type": "markdown",
   "metadata": {
    "id": "KR0HjXzCQ28m"
   },
   "source": [
    "Bcubed metric reflects the quality of the unsupervised clustering algorithm better than traditional f1-metric used for classification tasks. This is due to the nature of the ML problem. Bcubed looks at the quality inside each cluster (by precision: homogeneity inside each cluster) and at the quality with respect to the true labels (by recall: homogeneity between clusters), so it looks at overall quality, while the traditional f1-measure looks at each specific label and in certain sense does not take into account clusterization."
   ]
  },
  {
   "cell_type": "markdown",
   "metadata": {
    "id": "Ts6SG0chTH9g"
   },
   "source": [
    "### 2. Assigning labels with \"discretize\" strategy."
   ]
  },
  {
   "cell_type": "code",
   "execution_count": 57,
   "metadata": {
    "id": "oTLY3zTvQoUi"
   },
   "outputs": [],
   "source": [
    "# Discretization strategy.\n",
    "start = time.time()\n",
    "c_discretize = SpectralClustering(\n",
    "    n_clusters=len(newsgroups_train.target_names),\n",
    "    assign_labels=\"discretize\",\n",
    "    random_state=0\n",
    ").fit(vectors_pca)\n",
    "end = time.time()\n",
    "time_d = end - start\n",
    "pred_d = c_discretize.labels_\n",
    "\n",
    "# K-means strategy.\n",
    "start_ = time.time()\n",
    "c_kmeans = SpectralClustering(\n",
    "    n_clusters=len(newsgroups_train.target_names),\n",
    "    assign_labels=\"kmeans\",\n",
    "    random_state=0\n",
    ").fit(vectors_pca)\n",
    "end_ = time.time()\n",
    "time_k = end_ - start_\n",
    "pred_k = c_kmeans.labels_\n",
    "\n",
    "pr_d, rec_d, bcubed_d = compute_bcubed(newsgroups_train.target, pred_d)\n",
    "pr_k, rec_k, bcubed_k = compute_bcubed(newsgroups_train.target, pred_k)"
   ]
  },
  {
   "cell_type": "code",
   "execution_count": 69,
   "metadata": {
    "colab": {
     "base_uri": "https://localhost:8080/"
    },
    "id": "iUFutIjNQoRN",
    "outputId": "dea9c893-ad8d-4e78-b481-37e9c91532ef"
   },
   "outputs": [
    {
     "name": "stdout",
     "output_type": "stream",
     "text": [
      "Train\n",
      "===============================================================\n",
      "Discretize strategy\n",
      "Precision-BCubed: 0.400, Recall-BCubed: 0.376, F-BCubed: 0.388\n",
      "Time 1.01715\n",
      "===============================================================\n",
      "K-means strategy\n",
      "Precision-BCubed: 0.421, Recall-BCubed: 0.460, F-BCubed: 0.439\n",
      "Time 1.01172\n",
      "===============================================================\n"
     ]
    }
   ],
   "source": [
    "print('Train')\n",
    "print('===============================================================')\n",
    "print('Discretize strategy')\n",
    "print('Precision-BCubed: {:.3f}, Recall-BCubed: {:.3f}, F-BCubed: {:.3f}'.format(pr_d, rec_d, bcubed_d))\n",
    "print('Time {:.5f}'.format(time_d / 60))\n",
    "print('===============================================================')\n",
    "\n",
    "print('K-means strategy')\n",
    "print('Precision-BCubed: {:.3f}, Recall-BCubed: {:.3f}, F-BCubed: {:.3f}'.format(pr_k, rec_k, bcubed_k))\n",
    "print('Time {:.5f}'.format(time_k / 60))\n",
    "print('===============================================================')"
   ]
  },
  {
   "cell_type": "code",
   "execution_count": 65,
   "metadata": {
    "id": "u-liKjM5V0m5"
   },
   "outputs": [],
   "source": [
    "start = time.time()\n",
    "pred_d_te = c_discretize.fit_predict(vectors_pca_te)\n",
    "end = time.time()\n",
    "time_d_te = end - start\n",
    "\n",
    "start_ = time.time()\n",
    "pred_k_te = c_kmeans.fit_predict(vectors_pca_te)\n",
    "end_ = time.time()\n",
    "time_k_te = end_ - start_\n",
    "\n",
    "pr_d_te, rec_d_te, bcubed_d_te = compute_bcubed(newsgroups_test.target, pred_d_te)\n",
    "pr_k_te, rec_k_te, bcubed_k_te = compute_bcubed(newsgroups_test.target, pred_k_te)"
   ]
  },
  {
   "cell_type": "code",
   "execution_count": 70,
   "metadata": {
    "colab": {
     "base_uri": "https://localhost:8080/"
    },
    "id": "CH5qJ1xBc_zm",
    "outputId": "95aa2f55-c629-4d80-dc9a-5f3807aef91e"
   },
   "outputs": [
    {
     "name": "stdout",
     "output_type": "stream",
     "text": [
      "Test\n",
      "===============================================================\n",
      "Discretize strategy\n",
      "Precision-BCubed: 0.424, Recall-BCubed: 0.415, F-BCubed: 0.419\n",
      "Time: 0.35306\n",
      "===============================================================\n",
      "K-means strategy\n",
      "Precision-BCubed: 0.411, Recall-BCubed: 0.443, F-BCubed: 0.427\n",
      "Time: 0.39861\n",
      "===============================================================\n"
     ]
    }
   ],
   "source": [
    "print('Test')\n",
    "print('===============================================================')\n",
    "print('Discretize strategy')\n",
    "print('Precision-BCubed: {:.3f}, Recall-BCubed: {:.3f}, F-BCubed: {:.3f}'.format(pr_d_te, rec_d_te, bcubed_d_te))\n",
    "print('Time: {:.5f}'.format(time_d_te / 60))\n",
    "print('===============================================================')\n",
    "\n",
    "print('K-means strategy')\n",
    "print('Precision-BCubed: {:.3f}, Recall-BCubed: {:.3f}, F-BCubed: {:.3f}'.format(pr_k_te, rec_k_te, bcubed_k_te))\n",
    "print('Time: {:.5f}'.format(time_k_te / 60))\n",
    "print('===============================================================')"
   ]
  },
  {
   "cell_type": "markdown",
   "metadata": {
    "id": "runnyVmFWM2-"
   },
   "source": [
    "For this dataset **k-means strategy of labels assigning works better that discretize strategy**.\n",
    "Let's recall the spectral clustering algorithm:\n",
    "1. Construct a graph G from the objects and compute its Laplacian L.\n",
    "2. Find normalized eigenvectors of L for m smallest eigenvalues.\n",
    "3. Create a matrix U from eigenvectors.\n",
    "4. Apply algorithm for dividing objects into clusters (usually k-means).\n",
    "\n",
    "Thus, after the third step we get the new embedding space for the objects and there are several ways to clusterize them in this new embedding space. In sklearn realization there are two ways to assign labels after the Laplacian embedding: \n",
    "* k-means;\n",
    "* discretization.\n",
    "\n",
    "K-means is a popular choice, but it has disadvantage: it can be sensitive to the initialization (k-means takes random values for the clusters centers as their first initialization). **While discretization is less sensitive to random initialization. Another advantage of the discretization algorithm is its faster convergence compared to other clustering methods as authors claim.** However, for the given dataset the time of training for both strategies is almost the same (for test dataset discretization works faster than k-means).\n"
   ]
  },
  {
   "cell_type": "markdown",
   "metadata": {
    "id": "DxM9BNpJjgY6"
   },
   "source": [
    "**Algorithm of spectral clustering with discretization strategy from the [article](https://www1.icsi.berkeley.edu/~stellayu/publication/doc/2003kwayICCV.pdf):**"
   ]
  },
  {
   "cell_type": "markdown",
   "metadata": {
    "id": "RKv7CLj7jd3F"
   },
   "source": [
    "![image.png](data:image/png;base64,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)"
   ]
  },
  {
   "cell_type": "markdown",
   "metadata": {
    "id": "wiyT4TCSmjt9"
   },
   "source": [
    "So after obtaining the Laplacian embeddings we try to discretize them (starting from the 4th step). Basically, there are 2 steps: \n",
    "* at **the first step** a relaxed *continuous* optimization problem is solved. The global optima are given by some eigenvectors subject to arbitrary orthonormal transform (X* inititalization at the step 4);\n",
    "* at **the second step** we solve for a *discrete* solution that is closest to the continuous optima using an alternating optimization procedure. We alternate\n",
    "the following: the continuous optimum closest to a discrete solution is located by computing the best orthonormal transform R*, and the discrete solution closest to a continuous one is located by non-maximum suppression (steps 6, 7). \n",
    "\n",
    "Then finding optimal discrete solution and finding optimal orthonormal matrix  are iteratively repeated to get closer to the global optimal solution (repeat steps 6, 7). As the result, the distance between a discrete solution and the continuous optima is decreased. After convergence, a nearly global-optimal partitioning is obtained."
   ]
  },
  {
   "cell_type": "code",
   "execution_count": null,
   "metadata": {
    "id": "2LnqxoEKW5v2"
   },
   "outputs": [],
   "source": []
  },
  {
   "cell_type": "markdown",
   "metadata": {
    "id": "_WhrUAmXebtQ"
   },
   "source": [
    "### 3. Whether spectral clustering works better with PCA or without.\n",
    "As we apply PCA we move into the lower dimensional space, so we expect that algorithm should work faster with PCA."
   ]
  },
  {
   "cell_type": "code",
   "execution_count": 81,
   "metadata": {
    "id": "BC58UByJelcL"
   },
   "outputs": [],
   "source": [
    "# Without PCA\n",
    "start = time.time()\n",
    "clustering = SpectralClustering(\n",
    "    n_clusters=len(newsgroups_train.target_names),\n",
    "    assign_labels=\"discretize\",\n",
    "    random_state=0\n",
    ").fit(vectors)\n",
    "end = time.time()\n",
    "time_without = end - start\n",
    "pred = clustering.labels_\n",
    "\n",
    "# With PCA\n",
    "start_ = time.time()\n",
    "clustering_pca = SpectralClustering(\n",
    "    n_clusters=len(newsgroups_train.target_names),\n",
    "    assign_labels=\"discretize\",\n",
    "    random_state=0\n",
    ").fit(vectors_pca)\n",
    "end_ = time.time()\n",
    "time_pca = end_ - start_\n",
    "pred_pca = clustering_pca.labels_\n",
    "\n",
    "pr_, rec_, bcubed_ = compute_bcubed(newsgroups_train.target, pred)\n",
    "pr_pca, rec_pca, bcubed_pca = compute_bcubed(newsgroups_train.target, pred_pca)"
   ]
  },
  {
   "cell_type": "code",
   "execution_count": 83,
   "metadata": {
    "colab": {
     "base_uri": "https://localhost:8080/"
    },
    "id": "sPM4sBQkel94",
    "outputId": "c660a5f7-c7c0-4f7a-d586-06142485be6a"
   },
   "outputs": [
    {
     "name": "stdout",
     "output_type": "stream",
     "text": [
      "Train\n",
      "===============================================================\n",
      "Without PCA\n",
      "Precision-BCubed: 0.431, Recall-BCubed: 0.419, F-BCubed: 0.425\n",
      "Time 1.02556\n",
      "===============================================================\n",
      "With PCA\n",
      "Precision-BCubed: 0.400, Recall-BCubed: 0.376, F-BCubed: 0.388\n",
      "Time 1.01238\n",
      "===============================================================\n"
     ]
    }
   ],
   "source": [
    "print('Train')\n",
    "print('===============================================================')\n",
    "print('Without PCA')\n",
    "print('Precision-BCubed: {:.3f}, Recall-BCubed: {:.3f}, F-BCubed: {:.3f}'.format(pr_, rec_, bcubed_))\n",
    "print('Time {:.5f}'.format(time_without / 60))\n",
    "print('===============================================================')\n",
    "\n",
    "print('With PCA')\n",
    "print('Precision-BCubed: {:.3f}, Recall-BCubed: {:.3f}, F-BCubed: {:.3f}'.format(pr_pca, rec_pca, bcubed_pca))\n",
    "print('Time {:.5f}'.format(time_pca / 60))\n",
    "print('===============================================================')"
   ]
  },
  {
   "cell_type": "code",
   "execution_count": 86,
   "metadata": {
    "id": "-BcDXtZsgVTV"
   },
   "outputs": [],
   "source": [
    "start = time.time()\n",
    "pred_without_te = clustering.fit_predict(vectors_te)\n",
    "end = time.time()\n",
    "time_without_te = end - start\n",
    "\n",
    "start_ = time.time()\n",
    "pred_pca_te = clustering_pca.fit_predict(vectors_pca_te)\n",
    "end_ = time.time()\n",
    "time_pca_te = end_ - start_\n",
    "\n",
    "pr_without_te, rec_without_te, bcubed_without_te = compute_bcubed(newsgroups_test.target, pred_without_te)\n",
    "pr_pca_te, rec_pca_te, bcubed_pca_te = compute_bcubed(newsgroups_test.target, pred_pca_te)"
   ]
  },
  {
   "cell_type": "code",
   "execution_count": 88,
   "metadata": {
    "colab": {
     "base_uri": "https://localhost:8080/"
    },
    "id": "5XZMYg6hgoRB",
    "outputId": "e400d95b-dba7-4547-e547-89161174e446"
   },
   "outputs": [
    {
     "name": "stdout",
     "output_type": "stream",
     "text": [
      "Test\n",
      "===============================================================\n",
      "Without PCA\n",
      "Precision-BCubed: 0.416, Recall-BCubed: 0.419, F-BCubed: 0.417\n",
      "Time 0.34980\n",
      "===============================================================\n",
      "With PCA\n",
      "Precision-BCubed: 0.424, Recall-BCubed: 0.415, F-BCubed: 0.419\n",
      "Time 0.31528\n",
      "===============================================================\n"
     ]
    }
   ],
   "source": [
    "print('Test')\n",
    "print('===============================================================')\n",
    "print('Without PCA')\n",
    "print('Precision-BCubed: {:.3f}, Recall-BCubed: {:.3f}, F-BCubed: {:.3f}'.format(pr_without_te, rec_without_te, bcubed_without_te))\n",
    "print('Time {:.5f}'.format(time_without_te / 60))\n",
    "print('===============================================================')\n",
    "\n",
    "print('With PCA')\n",
    "print('Precision-BCubed: {:.3f}, Recall-BCubed: {:.3f}, F-BCubed: {:.3f}'.format(pr_pca_te, rec_pca_te, bcubed_pca_te))\n",
    "print('Time {:.5f}'.format(time_pca_te / 60))\n",
    "print('===============================================================')"
   ]
  },
  {
   "cell_type": "markdown",
   "metadata": {
    "id": "ABKPSrhGj_2d"
   },
   "source": [
    "As expected it takes longer to clusterize objects using initial vector space with all features than using smaller number of PCA-transformed features. In addition, PCA does not lose much information from the data as metric of quality with PCA is comparable with metric without PCA (for test BCubed is even higher with PCA than without it, but for training dataset the quality of model decreased with using PCA). So we need PCA as long as it decreases the training time and gives commensurable results."
   ]
  },
  {
   "cell_type": "code",
   "execution_count": null,
   "metadata": {
    "id": "gwkm9fqtj-bE"
   },
   "outputs": [],
   "source": []
  }
 ],
 "metadata": {
  "colab": {
   "collapsed_sections": [],
   "name": "homework-spectral-clustering.ipynb",
   "provenance": []
  },
  "kernelspec": {
   "display_name": "Python 3",
   "language": "python",
   "name": "python3"
  },
  "language_info": {
   "codemirror_mode": {
    "name": "ipython",
    "version": 3
   },
   "file_extension": ".py",
   "mimetype": "text/x-python",
   "name": "python",
   "nbconvert_exporter": "python",
   "pygments_lexer": "ipython3",
   "version": "3.8.3"
  }
 },
 "nbformat": 4,
 "nbformat_minor": 1
}
