{
 "cells": [
  {
   "cell_type": "markdown",
   "metadata": {
    "id": "RYp0bXOFK-hP"
   },
   "source": [
    "# Машинное обучение, ФКН ВШЭ\n",
    "\n",
    "## Практическое задание 8. Метод опорных векторов и аппроксимация ядер\n",
    "\n",
    "### Общая информация\n",
    "Дата выдачи: 1.10.2021\n",
    "\n",
    "Мягкий дедлайн: 17.10.2021 23:59 МСК\n",
    "\n",
    "Жесткий дедлайн: 31.10.2021 23:59 МСК (1 неделя -- минус балл)\n",
    "\n",
    "### Оценивание и штрафы\n",
    "Каждая из задач имеет определенную «стоимость» (указана в скобках около задачи). Максимальная оценка за работу (без учёта бонусов) — 10 баллов.\n",
    "\n",
    "Сдавать задание после указанного жёсткого срока сдачи нельзя. При выставлении неполного балла за задание в связи с наличием ошибок на усмотрение проверяющего предусмотрена возможность исправить работу на указанных в ответном письме условиях.\n",
    "\n",
    "Задание выполняется самостоятельно. «Похожие» решения считаются плагиатом и все задействованные студенты (в том числе те, у кого списали) не могут получить за него больше 0 баллов (подробнее о плагиате см. на странице курса). Если вы нашли решение какого-то из заданий (или его часть) в открытом источнике, необходимо указать ссылку на этот источник в отдельном блоке в конце вашей работы (скорее всего вы будете не единственным, кто это нашел, поэтому чтобы исключить подозрение в плагиате, необходима ссылка на источник).\n",
    "\n",
    "Неэффективная реализация кода может негативно отразиться на оценке.\n",
    "\n",
    "### Формат сдачи\n",
    "Загрузите решение в свой репозиторий на github и поделитесь [ссылкой на решение в форме](https://forms.gle/ZzCaqRj6bmfpSpyL7). Не забудьте дать доступ к Вашему репозиторию, что у преподавателей была возмоожность проверить работу."
   ]
  },
  {
   "cell_type": "markdown",
   "metadata": {
    "id": "vY8vT0W_K-hR"
   },
   "source": [
    "### О задании\n",
    "\n",
    "На занятиях мы подробно обсуждали метод опорных векторов (SVM). В базовой версии в нём нет чего-то особенного — мы всего лишь используем специальную функцию потерь, которая не требует устремлять отступы к бесконечности; ей достаточно, чтобы отступы были не меньше +1. Затем мы узнали, что SVM можно переписать в двойственном виде, который, позволяет заменить скалярные произведения объектов на ядра. Это будет соответствовать построению модели в новом пространстве более высокой размерности, координаты которого представляют собой нелинейные модификации исходных признаков.\n",
    "\n",
    "Ядровой SVM, к сожалению, довольно затратен по памяти (нужно хранить матрицу Грама размера $d \\times d$) и по времени (нужно решать задачу условной оптимизации с квадратичной функцией, а это не очень быстро). Мы обсуждали, что есть способы посчитать новые признаки $\\tilde \\varphi(x)$ на основе исходных так, что скалярные произведения этих новых $\\langle \\tilde \\varphi(x), \\tilde \\varphi(z) \\rangle$ приближают ядро $K(x, z)$.\n",
    "\n",
    "Мы будем исследовать аппроксимации методом Random Fourier Features (RFF, также в литературе встречается название Random Kitchen Sinks) для гауссовых ядер. Будем использовать формулы, которые немного отличаются от того, что было на лекциях (мы добавим сдвиги внутрь тригонометрических функций и будем использовать только косинусы, потому что с нужным сдвигом косинус превратится в синус):\n",
    "$$\\tilde \\varphi(x) = (\n",
    "\\cos (w_1^T x + b_1),\n",
    "\\dots,\n",
    "\\cos (w_n^T x + b_n)\n",
    "),$$\n",
    "где $w_j \\sim \\mathcal{N}(0, 1/\\sigma^2)$, $b_j \\sim U[-\\pi, \\pi]$.\n",
    "\n",
    "На новых признаках $\\tilde \\varphi(x)$ мы будем строить любую линейную модель.\n",
    "\n",
    "Можно считать, что это некоторая новая парадигма построения сложных моделей. Можно направленно искать сложные нелинейные закономерности в данных с помощью градиентного бустинга или нейронных сетей, а можно просто нагенерировать большое количество случайных нелинейных признаков и надеяться, что быстрая и простая модель (то есть линейная) сможет показать на них хорошее качество. В этом задании мы изучим, насколько работоспособна такая идея.\n",
    "\n",
    "### Алгоритм\n",
    "\n",
    "Вам потребуется реализовать следующий алгоритм:\n",
    "1. Понизить размерность выборки до new_dim с помощью метода главных компонент.\n",
    "2. Для полученной выборки оценить гиперпараметр $\\sigma^2$ с помощью эвристики (рекомендуем считать медиану не по всем парам объектов, а по случайному подмножеству из где-то миллиона пар объектов): $$\\sigma^2 = \\text{median}_{i, j = 1, \\dots, \\ell, i \\neq j} \\left\\{\\sum_{k = 1}^{d} (x_{ik} - x_{jk})^2 \\right\\}$$\n",
    "3. Сгенерировать n_features наборов весов $w_j$ и сдвигов $b_j$.\n",
    "4. Сформировать n_features новых признаков по формулам, приведённым выше.\n",
    "5. Обучить линейную модель (логистическую регрессию или SVM) на новых признаках.\n",
    "6. Повторить преобразования (PCA, формирование новых признаков) к тестовой выборке и применить модель."
   ]
  },
  {
   "cell_type": "markdown",
   "metadata": {
    "id": "N_sGunb7K-hS"
   },
   "source": [
    "Тестировать алгоритм мы будем на данных Fashion MNIST. Ниже код для их загрузки и подготовки."
   ]
  },
  {
   "cell_type": "code",
   "execution_count": 21,
   "metadata": {
    "id": "CFH8ZZ2PASkz"
   },
   "outputs": [],
   "source": [
    "import numpy as np\n",
    "import pandas as pd\n",
    "\n",
    "from sklearn.base import BaseEstimator, TransformerMixin\n",
    "from sklearn.decomposition import PCA\n",
    "from sklearn.metrics import accuracy_score\n",
    "from sklearn.model_selection import train_test_split, RandomizedSearchCV, StratifiedKFold\n",
    "from sklearn.decomposition import PCA\n",
    "from sklearn.linear_model import LogisticRegression\n",
    "from sklearn.svm import SVC, LinearSVC\n",
    "\n",
    "from scipy.spatial.distance import pdist, squareform\n",
    "from scipy.stats import multivariate_normal\n",
    "import matplotlib.pyplot as plt\n",
    "from itertools import product\n",
    "import lightgbm as lgbm\n",
    "import time\n",
    "from tqdm import tqdm\n",
    "\n",
    "import warnings\n",
    "warnings.filterwarnings(\"ignore\")"
   ]
  },
  {
   "cell_type": "code",
   "execution_count": 22,
   "metadata": {
    "collapsed": true,
    "id": "YyG6dBfjK-hS"
   },
   "outputs": [],
   "source": [
    "import keras\n",
    "from keras.datasets import fashion_mnist\n",
    "(x_train_pics, y_train), (x_test_pics, y_test) = fashion_mnist.load_data()\n",
    "x_train = x_train_pics.reshape(x_train_pics.shape[0], -1)\n",
    "x_test = x_test_pics.reshape(x_test_pics.shape[0], -1)"
   ]
  },
  {
   "cell_type": "markdown",
   "metadata": {
    "id": "rJNN55F7K-hT"
   },
   "source": [
    "__Задание 1. (5 баллов)__\n",
    "\n",
    "Реализуйте алгоритм, описанный выше. Можете воспользоваться шаблоном класса ниже или написать свой интерфейс.\n",
    "\n",
    "Ваша реализация должна поддерживать следующие опции:\n",
    "1. Возможность задавать значения гиперпараметров new_dim (по умолчанию 50) и n_features (по умолчанию 1000).\n",
    "2. Возможность включать или выключать предварительное понижение размерности с помощью метода главных компонент.\n",
    "3. Возможность выбирать тип линейной модели (логистическая регрессия или SVM с линейным ядром).\n",
    "\n",
    "Протестируйте на данных Fashion MNIST, сформированных кодом выше. Если на тесте у вас получилась доля верных ответов не ниже 0.84 с гиперпараметрами по умолчанию, то вы всё сделали правильно."
   ]
  },
  {
   "cell_type": "code",
   "execution_count": 23,
   "metadata": {
    "id": "jP8yepx8K-hT"
   },
   "outputs": [],
   "source": [
    "class RFFPipeline(BaseEstimator, TransformerMixin):\n",
    "    def __init__(self, n_features=1000, new_dim=50, use_PCA=True, sample_size=0.5, classifier='logreg', hyper_params={}):\n",
    "        \"\"\"        \n",
    "        Implements pipeline, which consists of PCA decomposition,\n",
    "        Random Fourier Features approximation and linear classification model.\n",
    "        \n",
    "        n_features, int: amount of synthetic random features generated with RFF approximation.\n",
    "\n",
    "        new_dim, int: PCA output size.\n",
    "\n",
    "        sample_size, float: sample percentage to draw samples for computing sigma.\n",
    "        \n",
    "        use_PCA, bool: whether to include PCA preprocessing.\n",
    "        \n",
    "        classifier, string: either 'svm' or 'logreg', a linear classification model to use on top of pipeline.\n",
    "        \n",
    "        hyper_params, dict: classifier's hyperparams.\n",
    "        \n",
    "        Feel free to edit this template for your preferences.    \n",
    "        \"\"\"\n",
    "        self.n_features = n_features\n",
    "        self.use_PCA = use_PCA\n",
    "        self.new_dim = new_dim\n",
    "        self.sample_size = sample_size\n",
    "        self.classifier = classifier\n",
    "        self.hyper_params = hyper_params\n",
    "        \n",
    "    def fit(self, X, y):\n",
    "        \"\"\"\n",
    "        Fit all parts of algorithm (PCA, RFF, Classification) to training set.\n",
    "        \"\"\"\n",
    "        \n",
    "        if self.use_PCA:\n",
    "            self.pca = PCA(n_components=self.new_dim)\n",
    "            X = self.pca.fit_transform(X)\n",
    "            \n",
    "        self.new_dim = X.shape[1]\n",
    "        X_sample = X[np.random.randint(X.shape[0], size=int(np.ceil(X.shape[0] * self.sample_size))), :]\n",
    "        self.sigma_sq = np.median(pdist(X_sample, metric='sqeuclidean'))\n",
    "        \n",
    "#         self.w = np.random.normal(loc=0, scale=1/np.sqrt(self.sigma), size=self.n_features)\n",
    "        self.w = np.zeros(shape=(self.n_features, self.new_dim))\n",
    "\n",
    "        for n in range(self.n_features):\n",
    "#             self.w[n, :] = multivariate_normal.rvs(cov=np.eye(self.new_dim) * (1/sigma_sq))\n",
    "#             Генерируем вес независимо для каждой фичи\n",
    "            self.w[n, :] = np.random.normal(loc=0, scale=1/np.sqrt(self.sigma_sq), size=self.new_dim)\n",
    "        \n",
    "        self.b = np.random.uniform(low=-np.pi, high=np.pi, size=self.n_features)\n",
    "        fi = np.cos(self.w @ X.T + self.b.reshape(self.n_features, -1)).T\n",
    "        \n",
    "        if self.classifier=='logreg':\n",
    "            self.clf = LogisticRegression(**self.hyper_params)\n",
    "        elif self.classifier=='svm':\n",
    "            self.clf = LinearSVC(**self.hyper_params)\n",
    "        self.clf.fit(fi, y)\n",
    "\n",
    "        return self\n",
    "\n",
    "    def predict_proba(self, X):\n",
    "        \"\"\"\n",
    "        Apply pipeline to obtain scores for input data.\n",
    "        \"\"\"\n",
    "        \n",
    "        if self.use_PCA:\n",
    "            X = self.pca.transform(X)\n",
    "        fi_pred = np.cos((self.w @ X.T) + self.b.reshape(self.n_features, -1)).T\n",
    "        pred = self.clf.predict_proba(fi_pred)\n",
    "        \n",
    "        return pred\n",
    "        \n",
    "    def predict(self, X):\n",
    "        \"\"\"\n",
    "        Apply pipeline to obtain discrete predictions for input data.\n",
    "        \"\"\"\n",
    "        \n",
    "        if self.use_PCA:\n",
    "            X = self.pca.transform(X)\n",
    "        fi_pred = np.cos((self.w @ X.T) + self.b.reshape(self.n_features, -1)).T\n",
    "        pred = self.clf.predict(fi_pred)\n",
    "        \n",
    "        return pred"
   ]
  },
  {
   "cell_type": "code",
   "execution_count": null,
   "metadata": {
    "colab": {
     "base_uri": "https://localhost:8080/"
    },
    "id": "ddG059AKASlJ",
    "outputId": "6cafa411-7ede-4301-9890-f9590be58cb1"
   },
   "outputs": [
    {
     "name": "stdout",
     "output_type": "stream",
     "text": [
      "Тест на данных Fashion MNIST\n"
     ]
    },
    {
     "name": "stderr",
     "output_type": "stream",
     "text": [
      "/usr/local/lib/python3.7/dist-packages/sklearn/linear_model/_logistic.py:940: ConvergenceWarning: lbfgs failed to converge (status=1):\n",
      "STOP: TOTAL NO. of ITERATIONS REACHED LIMIT.\n",
      "\n",
      "Increase the number of iterations (max_iter) or scale the data as shown in:\n",
      "    https://scikit-learn.org/stable/modules/preprocessing.html\n",
      "Please also refer to the documentation for alternative solver options:\n",
      "    https://scikit-learn.org/stable/modules/linear_model.html#logistic-regression\n",
      "  extra_warning_msg=_LOGISTIC_SOLVER_CONVERGENCE_MSG)\n"
     ]
    },
    {
     "name": "stdout",
     "output_type": "stream",
     "text": [
      "Доля верных ответов на тесте: 0.8787\n"
     ]
    }
   ],
   "source": [
    "# Не сходится с маленьким числом max_iter, а с увеличением числа итераций - долго обучается.\n",
    "print('Тест на данных Fashion MNIST')\n",
    "rff = RFFPipeline(hyper_params={'max_iter': 500})\n",
    "rff.fit(x_train, y_train)\n",
    "rff_pred_test = rff.predict(x_test)\n",
    "ac = accuracy_score(y_test, rff_pred_test)\n",
    "assert ac >= 0.84, 'Доля верных ответов ниже 0.84 :('\n",
    "print('Доля верных ответов на тесте: {}'.format(ac))"
   ]
  },
  {
   "cell_type": "markdown",
   "metadata": {
    "id": "HYqQUEi-K-hU"
   },
   "source": [
    "__Задание 2. (3 балла)__\n",
    "\n",
    "Сравните подход со случайными признаками с обучением SVM на исходных признаках. Попробуйте вариант с обычным (линейным) SVM и с ядровым SVM. Ядровой SVM может очень долго обучаться, поэтому можно делать любые разумные вещи для ускорения: брать подмножество объектов из обучающей выборки, например.\n",
    "\n",
    "Сравните подход со случайными признаками с вариантом, в котором вы понижаете размерность с помощью PCA и обучаете градиентный бустинг. Используйте одну из реализаций CatBoost/LightGBM/XGBoost, не забудьте подобрать число деревьев и длину шага.\n",
    "\n",
    "Сделайте выводы — насколько идея со случайными признаками работает? Сравните как с точки зрения качества, так и с точки зрения скорости обучения и применения."
   ]
  },
  {
   "cell_type": "code",
   "execution_count": null,
   "metadata": {
    "id": "B9ePLQVHASlL"
   },
   "outputs": [],
   "source": [
    "# Размерность в новом пространстве для PCA по дефолту 50 (вынесем параметр для использования в градиентном бустинге)\n",
    "new_dim=50"
   ]
  },
  {
   "cell_type": "code",
   "execution_count": null,
   "metadata": {
    "colab": {
     "base_uri": "https://localhost:8080/"
    },
    "collapsed": true,
    "id": "qmXfEe2JASlM",
    "outputId": "286a8f47-ccf1-4095-e2f0-a0de2a806f0a"
   },
   "outputs": [
    {
     "name": "stdout",
     "output_type": "stream",
     "text": [
      "Linear SVM\n"
     ]
    },
    {
     "name": "stderr",
     "output_type": "stream",
     "text": [
      "/usr/local/lib/python3.7/dist-packages/sklearn/svm/_base.py:947: ConvergenceWarning: Liblinear failed to converge, increase the number of iterations.\n",
      "  \"the number of iterations.\", ConvergenceWarning)\n"
     ]
    },
    {
     "name": "stdout",
     "output_type": "stream",
     "text": [
      "Kernel SVM\n",
      "RFF\n"
     ]
    },
    {
     "name": "stderr",
     "output_type": "stream",
     "text": [
      "/usr/local/lib/python3.7/dist-packages/sklearn/linear_model/_logistic.py:940: ConvergenceWarning: lbfgs failed to converge (status=1):\n",
      "STOP: TOTAL NO. of ITERATIONS REACHED LIMIT.\n",
      "\n",
      "Increase the number of iterations (max_iter) or scale the data as shown in:\n",
      "    https://scikit-learn.org/stable/modules/preprocessing.html\n",
      "Please also refer to the documentation for alternative solver options:\n",
      "    https://scikit-learn.org/stable/modules/linear_model.html#logistic-regression\n",
      "  extra_warning_msg=_LOGISTIC_SOLVER_CONVERGENCE_MSG)\n"
     ]
    }
   ],
   "source": [
    "models = {\n",
    "    'Linear SVM': LinearSVC(max_iter=2000, random_state=100),\n",
    "    'Kernel SVM': SVC(kernel='rbf', random_state=100),\n",
    "    'RFF': RFFPipeline(new_dim=new_dim, use_PCA=True, classifier='logreg', hyper_params={'max_iter': 2000}),\n",
    "}\n",
    "\n",
    "accuracy = {}\n",
    "times = {}\n",
    "\n",
    "# Возьмем половину выборки для обучения - все алгоритмы обучаются слишком долго\n",
    "mask = np.random.randint(x_train.shape[0], size=int(np.ceil(x_train.shape[0] * 0.5)))\n",
    "x_train_ = x_train[mask, :]\n",
    "y_train_ = y_train[mask]\n",
    "\n",
    "for name, model in models.items():\n",
    "    print(name)\n",
    "    clf = model\n",
    "    \n",
    "    start = time.time()\n",
    "    clf.fit(x_train_, y_train_)\n",
    "    # clf.fit(x_train, y_train)\n",
    "\n",
    "    end = time.time()\n",
    "    pred_test = clf.predict(x_test)\n",
    "    \n",
    "    accuracy[name] = accuracy_score(y_test, pred_test)\n",
    "    times[name] = end - start"
   ]
  },
  {
   "cell_type": "code",
   "execution_count": null,
   "metadata": {
    "id": "Tz7FYQdHASlN"
   },
   "outputs": [],
   "source": [
    "# Для градиентного бустинга подбираем гиперпараметры.\n",
    "pca = PCA(n_components=new_dim)\n",
    "X_train = pca.fit_transform(x_train)\n",
    "X_test = pca.transform(x_test)\n",
    "\n",
    "hp_grid = {\n",
    "    'max_depth': np.arange(2, 10),\n",
    "    'n_estimators': [50, 100, 200, 300, 500],\n",
    "    'learning_rate': np.linspace(0.01, 10, 100)\n",
    "}\n",
    "\n",
    "gb = lgbm.LGBMClassifier(objective='multiclass')\n",
    "skf = StratifiedKFold(n_splits=5, random_state=42, shuffle=True)\n",
    "# start = time.time()\n",
    "rsearch = RandomizedSearchCV(gb, hp_grid, cv=skf, random_state=100)\n",
    "rsearch.fit(X_train, y_train)\n",
    "best_params = rsearch.best_params_\n",
    "best_params['objective'] = 'multiclass'\n",
    "\n",
    "gb_clf = lgbm.LGBMClassifier(**best_params)\n",
    "start = time.time()\n",
    "gb_clf.fit(X_train, y_train)\n",
    "end = time.time()\n",
    "gb_pred_test = gb_clf.predict(X_test)\n",
    "\n",
    "accuracy['LGBM with PCA'] = accuracy_score(y_test, gb_pred_test)\n",
    "times['LGBM with PCA'] = end - start"
   ]
  },
  {
   "cell_type": "code",
   "execution_count": null,
   "metadata": {
    "id": "q4fH8WzWASlP"
   },
   "outputs": [],
   "source": [
    "scores = pd.DataFrame.from_dict(accuracy, orient='index', columns=['Accuracy'])\n",
    "time_ = pd.DataFrame.from_dict(times, orient='index', columns=['Time'])\n",
    "results = scores.join(time_).T"
   ]
  },
  {
   "cell_type": "code",
   "execution_count": null,
   "metadata": {
    "colab": {
     "base_uri": "https://localhost:8080/",
     "height": 112
    },
    "id": "WQkjMT0qASlQ",
    "outputId": "4cd1c313-e1f6-4cc0-eeba-152e0fd8cc0e"
   },
   "outputs": [
    {
     "data": {
      "text/html": [
       "<div>\n",
       "<style scoped>\n",
       "    .dataframe tbody tr th:only-of-type {\n",
       "        vertical-align: middle;\n",
       "    }\n",
       "\n",
       "    .dataframe tbody tr th {\n",
       "        vertical-align: top;\n",
       "    }\n",
       "\n",
       "    .dataframe thead th {\n",
       "        text-align: right;\n",
       "    }\n",
       "</style>\n",
       "<table border=\"1\" class=\"dataframe\">\n",
       "  <thead>\n",
       "    <tr style=\"text-align: right;\">\n",
       "      <th></th>\n",
       "      <th>Linear SVM</th>\n",
       "      <th>Kernel SVM</th>\n",
       "      <th>RFF</th>\n",
       "      <th>LGBM with PCA</th>\n",
       "    </tr>\n",
       "  </thead>\n",
       "  <tbody>\n",
       "    <tr>\n",
       "      <th>Accuracy</th>\n",
       "      <td>0.733500</td>\n",
       "      <td>0.870600</td>\n",
       "      <td>0.868700</td>\n",
       "      <td>0.876700</td>\n",
       "    </tr>\n",
       "    <tr>\n",
       "      <th>Time</th>\n",
       "      <td>261.858239</td>\n",
       "      <td>166.233782</td>\n",
       "      <td>419.237202</td>\n",
       "      <td>99.794426</td>\n",
       "    </tr>\n",
       "  </tbody>\n",
       "</table>\n",
       "</div>"
      ],
      "text/plain": [
       "          Linear SVM  Kernel SVM         RFF  LGBM with PCA\n",
       "Accuracy    0.733500    0.870600    0.868700       0.876700\n",
       "Time      261.858239  166.233782  419.237202      99.794426"
      ]
     },
     "execution_count": 9,
     "metadata": {},
     "output_type": "execute_result"
    }
   ],
   "source": [
    "results"
   ]
  },
  {
   "cell_type": "markdown",
   "metadata": {
    "id": "kJmy1o8lASlR"
   },
   "source": [
    "Самое высокое качество показывает градиентный бустинг, самое низкое - линейный SVM, что логично, т.к. он распознает только линейные зависимости в данных. Сопоставимым, достаточно высоким качеством с лучшим алгоритмом обладают ядровой SVM и подход со случайными признаками, т.к. данные алгоритмы также улавливают нелинейности с помощью преобразования исходных признаков в нелинейные и перехода таким образом в спрямляющее пространство, где уже можно разделить данные с помощью линейного алгоритма. Также следует отметить, что реализации RFFPipeline и ядровой SVM из sklearn обладают схожим качеством (т.к. в RFFPipeline по сути и приближаем ядро с помощью случайных признаков Фурье). По времени наилучшая реализация у алгоритма LGBM (без учета перебора гиперпараметров), а медленнее всего работает данная реализация подхода со случайными признаками Фурье (RFFPipeline). С учетом перебора ГП градиентый бустинг работал бы дольше.\n",
    "\n",
    "Таким образом, алгоритм со случайными признаками довольно мощный: распознает нелинейные зависимости практически как градиентный бустинг, однако работает довольно долго."
   ]
  },
  {
   "cell_type": "code",
   "execution_count": null,
   "metadata": {
    "id": "qY9RtY8WASlS"
   },
   "outputs": [],
   "source": []
  },
  {
   "cell_type": "markdown",
   "metadata": {
    "id": "e6umjhWuK-hV"
   },
   "source": [
    "__Задание 3. (2 балла)__\n",
    "\n",
    "Проведите эксперименты:\n",
    "1. Помогает ли предварительное понижение размерности с помощью PCA? \n",
    "2. Как зависит итоговое качество от n_features? Выходит ли оно на плато при росте n_features?\n",
    "3. Важно ли, какую модель обучать — логистическую регрессию или SVM?"
   ]
  },
  {
   "cell_type": "code",
   "execution_count": null,
   "metadata": {
    "id": "6_DI9qWlASlU"
   },
   "outputs": [],
   "source": [
    "def train_rff_hp(param_name, param_list):\n",
    "    accuracy = []\n",
    "    times = []\n",
    "    \n",
    "    for hp in param_list:\n",
    "        param_dict = {}\n",
    "        param_dict[param_name] = hp\n",
    "        param_dict['hyper_params'] = {'max_iter': 2000}\n",
    "        clf = RFFPipeline(**param_dict)\n",
    "\n",
    "        start = time.time()\n",
    "        clf.fit(x_train_, y_train_)\n",
    "        end = time.time()\n",
    "\n",
    "        pred_test = clf.predict(x_test)\n",
    "        accuracy.append(accuracy_score(y_test, pred_test))\n",
    "        times.append(end - start)\n",
    "        \n",
    "    return accuracy, times"
   ]
  },
  {
   "cell_type": "code",
   "execution_count": null,
   "metadata": {
    "colab": {
     "base_uri": "https://localhost:8080/"
    },
    "collapsed": true,
    "id": "943FTiKZASlU",
    "outputId": "88e4e125-63c0-4a61-9b0d-c41e57ac47b0"
   },
   "outputs": [
    {
     "name": "stderr",
     "output_type": "stream",
     "text": [
      "/usr/local/lib/python3.7/dist-packages/sklearn/linear_model/_logistic.py:940: ConvergenceWarning: lbfgs failed to converge (status=1):\n",
      "STOP: TOTAL NO. of ITERATIONS REACHED LIMIT.\n",
      "\n",
      "Increase the number of iterations (max_iter) or scale the data as shown in:\n",
      "    https://scikit-learn.org/stable/modules/preprocessing.html\n",
      "Please also refer to the documentation for alternative solver options:\n",
      "    https://scikit-learn.org/stable/modules/linear_model.html#logistic-regression\n",
      "  extra_warning_msg=_LOGISTIC_SOLVER_CONVERGENCE_MSG)\n",
      "/usr/local/lib/python3.7/dist-packages/sklearn/linear_model/_logistic.py:940: ConvergenceWarning: lbfgs failed to converge (status=1):\n",
      "STOP: TOTAL NO. of ITERATIONS REACHED LIMIT.\n",
      "\n",
      "Increase the number of iterations (max_iter) or scale the data as shown in:\n",
      "    https://scikit-learn.org/stable/modules/preprocessing.html\n",
      "Please also refer to the documentation for alternative solver options:\n",
      "    https://scikit-learn.org/stable/modules/linear_model.html#logistic-regression\n",
      "  extra_warning_msg=_LOGISTIC_SOLVER_CONVERGENCE_MSG)\n",
      "/usr/local/lib/python3.7/dist-packages/sklearn/linear_model/_logistic.py:940: ConvergenceWarning: lbfgs failed to converge (status=1):\n",
      "STOP: TOTAL NO. of ITERATIONS REACHED LIMIT.\n",
      "\n",
      "Increase the number of iterations (max_iter) or scale the data as shown in:\n",
      "    https://scikit-learn.org/stable/modules/preprocessing.html\n",
      "Please also refer to the documentation for alternative solver options:\n",
      "    https://scikit-learn.org/stable/modules/linear_model.html#logistic-regression\n",
      "  extra_warning_msg=_LOGISTIC_SOLVER_CONVERGENCE_MSG)\n",
      "/usr/local/lib/python3.7/dist-packages/sklearn/linear_model/_logistic.py:940: ConvergenceWarning: lbfgs failed to converge (status=1):\n",
      "STOP: TOTAL NO. of ITERATIONS REACHED LIMIT.\n",
      "\n",
      "Increase the number of iterations (max_iter) or scale the data as shown in:\n",
      "    https://scikit-learn.org/stable/modules/preprocessing.html\n",
      "Please also refer to the documentation for alternative solver options:\n",
      "    https://scikit-learn.org/stable/modules/linear_model.html#logistic-regression\n",
      "  extra_warning_msg=_LOGISTIC_SOLVER_CONVERGENCE_MSG)\n",
      "/usr/local/lib/python3.7/dist-packages/sklearn/linear_model/_logistic.py:940: ConvergenceWarning: lbfgs failed to converge (status=1):\n",
      "STOP: TOTAL NO. of ITERATIONS REACHED LIMIT.\n",
      "\n",
      "Increase the number of iterations (max_iter) or scale the data as shown in:\n",
      "    https://scikit-learn.org/stable/modules/preprocessing.html\n",
      "Please also refer to the documentation for alternative solver options:\n",
      "    https://scikit-learn.org/stable/modules/linear_model.html#logistic-regression\n",
      "  extra_warning_msg=_LOGISTIC_SOLVER_CONVERGENCE_MSG)\n",
      "/usr/local/lib/python3.7/dist-packages/sklearn/linear_model/_logistic.py:940: ConvergenceWarning: lbfgs failed to converge (status=1):\n",
      "STOP: TOTAL NO. of ITERATIONS REACHED LIMIT.\n",
      "\n",
      "Increase the number of iterations (max_iter) or scale the data as shown in:\n",
      "    https://scikit-learn.org/stable/modules/preprocessing.html\n",
      "Please also refer to the documentation for alternative solver options:\n",
      "    https://scikit-learn.org/stable/modules/linear_model.html#logistic-regression\n",
      "  extra_warning_msg=_LOGISTIC_SOLVER_CONVERGENCE_MSG)\n",
      "/usr/local/lib/python3.7/dist-packages/sklearn/linear_model/_logistic.py:940: ConvergenceWarning: lbfgs failed to converge (status=1):\n",
      "STOP: TOTAL NO. of ITERATIONS REACHED LIMIT.\n",
      "\n",
      "Increase the number of iterations (max_iter) or scale the data as shown in:\n",
      "    https://scikit-learn.org/stable/modules/preprocessing.html\n",
      "Please also refer to the documentation for alternative solver options:\n",
      "    https://scikit-learn.org/stable/modules/linear_model.html#logistic-regression\n",
      "  extra_warning_msg=_LOGISTIC_SOLVER_CONVERGENCE_MSG)\n",
      "/usr/local/lib/python3.7/dist-packages/sklearn/linear_model/_logistic.py:940: ConvergenceWarning: lbfgs failed to converge (status=1):\n",
      "STOP: TOTAL NO. of ITERATIONS REACHED LIMIT.\n",
      "\n",
      "Increase the number of iterations (max_iter) or scale the data as shown in:\n",
      "    https://scikit-learn.org/stable/modules/preprocessing.html\n",
      "Please also refer to the documentation for alternative solver options:\n",
      "    https://scikit-learn.org/stable/modules/linear_model.html#logistic-regression\n",
      "  extra_warning_msg=_LOGISTIC_SOLVER_CONVERGENCE_MSG)\n",
      "/usr/local/lib/python3.7/dist-packages/sklearn/svm/_base.py:947: ConvergenceWarning: Liblinear failed to converge, increase the number of iterations.\n",
      "  \"the number of iterations.\", ConvergenceWarning)\n"
     ]
    }
   ],
   "source": [
    "use_pca = [True, False]\n",
    "n_features = [1, 10, 100, 500, 700, 1000, 2000, 5000]\n",
    "classifier = ['logreg', 'svm']\n",
    "\n",
    "index_names = ['Accuracy', 'Time']\n",
    "\n",
    "ac_pca, time_pca = train_rff_hp('use_PCA', use_pca)\n",
    "res_pca = pd.DataFrame([ac_pca, time_pca], columns=['With PCA', 'Without PCA'])\n",
    "res_pca.index = index_names\n",
    "\n",
    "ac_nfeat, time_nfeat = train_rff_hp('n_features', n_features)\n",
    "res_nfeat = pd.DataFrame([ac_nfeat, time_nfeat], columns=n_features)\n",
    "res_nfeat.index = index_names\n",
    "\n",
    "ac_clf, time_clf = train_rff_hp('classifier', classifier)\n",
    "res_clf = pd.DataFrame([ac_clf, time_clf], columns=classifier)\n",
    "res_clf.index = index_names"
   ]
  },
  {
   "cell_type": "markdown",
   "metadata": {
    "id": "amMvOxU4ASlV"
   },
   "source": [
    "1. **Предварительное понижение размерности с помощью PCA** помогает: на данных признаках улучшает качество алгоритма и плюс сокращает время обучения."
   ]
  },
  {
   "cell_type": "code",
   "execution_count": null,
   "metadata": {
    "colab": {
     "base_uri": "https://localhost:8080/"
    },
    "id": "A4foXVFDASlW",
    "outputId": "5f1d794e-30f1-4cfa-b354-11777ff0d1df"
   },
   "outputs": [
    {
     "name": "stdout",
     "output_type": "stream",
     "text": [
      "Accuracy with PCA 0.8705, without PCA 0.8448\n",
      "Time of learning with PCA 418.4051, without PCA 474.3505\n"
     ]
    }
   ],
   "source": [
    "print('Accuracy with PCA {}, without PCA {}'.format(ac_pca[0], ac_pca[1]))\n",
    "print('Time of learning with PCA {}, without PCA {}'.format(round(time_pca[0], 4), round(time_pca[1], 4)))"
   ]
  },
  {
   "cell_type": "code",
   "execution_count": null,
   "metadata": {
    "colab": {
     "base_uri": "https://localhost:8080/",
     "height": 112
    },
    "id": "uwZ88bOuASlX",
    "outputId": "8821c3f9-fb39-4637-8fa5-d6f339311361"
   },
   "outputs": [
    {
     "data": {
      "text/html": [
       "<div>\n",
       "<style scoped>\n",
       "    .dataframe tbody tr th:only-of-type {\n",
       "        vertical-align: middle;\n",
       "    }\n",
       "\n",
       "    .dataframe tbody tr th {\n",
       "        vertical-align: top;\n",
       "    }\n",
       "\n",
       "    .dataframe thead th {\n",
       "        text-align: right;\n",
       "    }\n",
       "</style>\n",
       "<table border=\"1\" class=\"dataframe\">\n",
       "  <thead>\n",
       "    <tr style=\"text-align: right;\">\n",
       "      <th></th>\n",
       "      <th>With PCA</th>\n",
       "      <th>Without PCA</th>\n",
       "    </tr>\n",
       "  </thead>\n",
       "  <tbody>\n",
       "    <tr>\n",
       "      <th>Accuracy</th>\n",
       "      <td>0.870500</td>\n",
       "      <td>0.844800</td>\n",
       "    </tr>\n",
       "    <tr>\n",
       "      <th>Time</th>\n",
       "      <td>418.405087</td>\n",
       "      <td>474.350499</td>\n",
       "    </tr>\n",
       "  </tbody>\n",
       "</table>\n",
       "</div>"
      ],
      "text/plain": [
       "            With PCA  Without PCA\n",
       "Accuracy    0.870500     0.844800\n",
       "Time      418.405087   474.350499"
      ]
     },
     "execution_count": 13,
     "metadata": {},
     "output_type": "execute_result"
    }
   ],
   "source": [
    "res_pca"
   ]
  },
  {
   "cell_type": "markdown",
   "metadata": {
    "id": "AVS6UyXCASlY"
   },
   "source": [
    "2. Качество алгоритма растет с **количеством новых синтетических признаков n_features** и в определенный момент выходит на плато (начиная ~ с 1000 новых признаков), но при этом время обучения алгоритма растет линейно."
   ]
  },
  {
   "cell_type": "code",
   "execution_count": null,
   "metadata": {
    "colab": {
     "base_uri": "https://localhost:8080/",
     "height": 112
    },
    "id": "jrzlRccgT9rU",
    "outputId": "46a093cd-2d32-4304-f24f-01843f3373b1"
   },
   "outputs": [
    {
     "data": {
      "text/html": [
       "<div>\n",
       "<style scoped>\n",
       "    .dataframe tbody tr th:only-of-type {\n",
       "        vertical-align: middle;\n",
       "    }\n",
       "\n",
       "    .dataframe tbody tr th {\n",
       "        vertical-align: top;\n",
       "    }\n",
       "\n",
       "    .dataframe thead th {\n",
       "        text-align: right;\n",
       "    }\n",
       "</style>\n",
       "<table border=\"1\" class=\"dataframe\">\n",
       "  <thead>\n",
       "    <tr style=\"text-align: right;\">\n",
       "      <th></th>\n",
       "      <th>1</th>\n",
       "      <th>10</th>\n",
       "      <th>100</th>\n",
       "      <th>500</th>\n",
       "      <th>700</th>\n",
       "      <th>1000</th>\n",
       "      <th>2000</th>\n",
       "      <th>5000</th>\n",
       "    </tr>\n",
       "  </thead>\n",
       "  <tbody>\n",
       "    <tr>\n",
       "      <th>Accuracy</th>\n",
       "      <td>0.199100</td>\n",
       "      <td>0.65950</td>\n",
       "      <td>0.838100</td>\n",
       "      <td>0.86000</td>\n",
       "      <td>0.866200</td>\n",
       "      <td>0.868600</td>\n",
       "      <td>0.870100</td>\n",
       "      <td>0.87140</td>\n",
       "    </tr>\n",
       "    <tr>\n",
       "      <th>Time</th>\n",
       "      <td>7.162586</td>\n",
       "      <td>12.70294</td>\n",
       "      <td>71.923322</td>\n",
       "      <td>185.35788</td>\n",
       "      <td>239.458019</td>\n",
       "      <td>422.199261</td>\n",
       "      <td>656.026211</td>\n",
       "      <td>1369.72251</td>\n",
       "    </tr>\n",
       "  </tbody>\n",
       "</table>\n",
       "</div>"
      ],
      "text/plain": [
       "              1         10         100   ...        1000        2000        5000\n",
       "Accuracy  0.199100   0.65950   0.838100  ...    0.868600    0.870100     0.87140\n",
       "Time      7.162586  12.70294  71.923322  ...  422.199261  656.026211  1369.72251\n",
       "\n",
       "[2 rows x 8 columns]"
      ]
     },
     "execution_count": 17,
     "metadata": {},
     "output_type": "execute_result"
    }
   ],
   "source": [
    "res_nfeat"
   ]
  },
  {
   "cell_type": "code",
   "execution_count": null,
   "metadata": {
    "colab": {
     "base_uri": "https://localhost:8080/",
     "height": 621
    },
    "id": "dHprHYQtUBkG",
    "outputId": "38cb6ad0-cee7-4682-d25d-f5394bc52f2e"
   },
   "outputs": [
    {
     "data": {
      "image/png": "[encoded data removed]",
      "text/plain": [
       "<Figure size 504x720 with 2 Axes>"
      ]
     },
     "metadata": {},
     "output_type": "display_data"
    }
   ],
   "source": [
    "fig, (ax1, ax2) = plt.subplots(2, sharex=True, figsize=(7, 10))\n",
    "ax1.set_title('Accuracy', weight='bold')\n",
    "ax1.plot(n_features, ac_nfeat, marker='.')\n",
    "ax1.grid()\n",
    "ax1.set_ylabel('Accuracy')\n",
    "ax1.set_xlabel('N features')\n",
    "\n",
    "ax2.set_title('Time of learning', weight='bold')\n",
    "ax2.plot(n_features, time_nfeat, marker='.')\n",
    "ax2.grid()\n",
    "ax2.set_ylabel('Time')\n",
    "ax2.set_xlabel('N features')\n",
    "plt.show()"
   ]
  },
  {
   "cell_type": "markdown",
   "metadata": {
    "id": "CFfg5zKIASla"
   },
   "source": [
    "3. Кажется, что обе линейные модели над новыми признаками работают приблизительно одинаково: **logreg и svm** имеют сопоставимое качество, т.к. фактически оба алгоритма строят линейную разделяющую функцию над признаками в новом пространстве. Но можно сказать, что у логистической регрессии немного выше доля верных ответов и обучается она медленее."
   ]
  },
  {
   "cell_type": "code",
   "execution_count": null,
   "metadata": {
    "colab": {
     "base_uri": "https://localhost:8080/",
     "height": 112
    },
    "id": "8smMVxCxASlb",
    "outputId": "d8c02aff-6873-411f-f613-dee3ad448e41"
   },
   "outputs": [
    {
     "data": {
      "text/html": [
       "<div>\n",
       "<style scoped>\n",
       "    .dataframe tbody tr th:only-of-type {\n",
       "        vertical-align: middle;\n",
       "    }\n",
       "\n",
       "    .dataframe tbody tr th {\n",
       "        vertical-align: top;\n",
       "    }\n",
       "\n",
       "    .dataframe thead th {\n",
       "        text-align: right;\n",
       "    }\n",
       "</style>\n",
       "<table border=\"1\" class=\"dataframe\">\n",
       "  <thead>\n",
       "    <tr style=\"text-align: right;\">\n",
       "      <th></th>\n",
       "      <th>logreg</th>\n",
       "      <th>svm</th>\n",
       "    </tr>\n",
       "  </thead>\n",
       "  <tbody>\n",
       "    <tr>\n",
       "      <th>Accuracy</th>\n",
       "      <td>0.871200</td>\n",
       "      <td>0.865700</td>\n",
       "    </tr>\n",
       "    <tr>\n",
       "      <th>Time</th>\n",
       "      <td>416.402739</td>\n",
       "      <td>254.555294</td>\n",
       "    </tr>\n",
       "  </tbody>\n",
       "</table>\n",
       "</div>"
      ],
      "text/plain": [
       "              logreg         svm\n",
       "Accuracy    0.871200    0.865700\n",
       "Time      416.402739  254.555294"
      ]
     },
     "execution_count": 18,
     "metadata": {},
     "output_type": "execute_result"
    }
   ],
   "source": [
    "res_clf"
   ]
  },
  {
   "cell_type": "markdown",
   "metadata": {
    "id": "CJqXVuasK-hW"
   },
   "source": [
    "### Бонус"
   ]
  },
  {
   "cell_type": "markdown",
   "metadata": {
    "id": "QVDWHCdrK-hX"
   },
   "source": [
    "__Задание 4. (Максимум 2 балла)__\n",
    "\n",
    "Как вы, должно быть, помните с курса МО-1, многие алгоритмы машинного обучения работают лучше, если признаки данных некоррелированы. Оказывается, что для RFF существует модификация, позволяющая получать ортогональные случайные признаки (Orthogonal Random Features, ORF). Об этом методе можно прочитать в [статье](https://proceedings.neurips.cc/paper/2016/file/53adaf494dc89ef7196d73636eb2451b-Paper.pdf). Реализуйте класс для вычисления ORF по аналогии с основным заданием. Обратите внимание, что ваш класс должен уметь работать со случаем n_features > new_dim (в статье есть замечание на этот счет). Проведите эксперименты, сравнивающие RFF и ORF, сделайте выводы."
   ]
  },
  {
   "cell_type": "code",
   "execution_count": null,
   "metadata": {
    "id": "HSxvGI9iK-hX"
   },
   "outputs": [],
   "source": []
  },
  {
   "cell_type": "markdown",
   "metadata": {
    "id": "4pc7-1jmK-hY"
   },
   "source": [
    "__Задание 5. (Максимум 2 балла)__\n",
    "\n",
    "Поэкспериментируйте с функциями для вычисления новых случайных признаков. Не обязательно использовать косинус от скалярного произведения — можно брать знак от него, хэш и т.д. Придумайте побольше вариантов для генерации признаков и проверьте, не получается ли с их помощью добиваться более высокого качества. Также можете попробовать другой классификатор поверх случайных признаков, сравните результаты."
   ]
  },
  {
   "cell_type": "code",
   "execution_count": 24,
   "metadata": {
    "id": "dWj-O2vjK-hY"
   },
   "outputs": [],
   "source": [
    "class RFFPipelineFunction(BaseEstimator, TransformerMixin):\n",
    "    def __init__(self, n_features=1000, new_dim=50, use_PCA=True, classifier='logreg', sample_size=0.5,\n",
    "                 hyper_params={}, kern_function=np.cos, add_bias_after=False, choose_hp_lgb=True):\n",
    "        \"\"\"        \n",
    "        Implements pipeline, which consists of PCA decomposition,\n",
    "        Random Fourier Features approximation and linear classification model.\n",
    "        \n",
    "        n_features, int: amount of synthetic random features generated with RFF approximation.\n",
    "\n",
    "        new_dim, int: PCA output size.\n",
    "        \n",
    "        use_PCA, bool: whether to include PCA preprocessing.\n",
    "        \n",
    "        classifier, string: 'svm', 'logreg' or 'lgbm' classification model to use on top of pipeline.\n",
    "        \n",
    "        hyper_params, dict: classifier's hyperparameters.\n",
    "        \n",
    "        kern_function, callable function for matrices: function for generating new features (numpy functions).\n",
    "\n",
    "        add_bias_after, bool: whether to add bias after applying kern_function (outside kern_function)\n",
    "        or before applying function (inside kern_function).\n",
    "\n",
    "        choose_hp_lgb, bool: whether to choose hyperparameters for LightGBM classifier.\n",
    "        \n",
    "        Feel free to edit this template for your preferences.    \n",
    "        \"\"\"\n",
    "        self.n_features = n_features\n",
    "        self.use_PCA = use_PCA\n",
    "        self.new_dim = new_dim\n",
    "        self.sample_size = sample_size\n",
    "        self.classifier = classifier\n",
    "        self.hyper_params = hyper_params\n",
    "        self.kern_function = kern_function\n",
    "        self.add_bias_after = add_bias_after\n",
    "        self.choose_hp_lgb = choose_hp_lgb\n",
    "        \n",
    "    def fit(self, X, y):\n",
    "        \"\"\"\n",
    "        Fit all parts of algorithm (PCA, RFF, Classification) to training set.\n",
    "        \"\"\"\n",
    "        if self.use_PCA:\n",
    "            self.pca = PCA(n_components=self.new_dim)\n",
    "            X = self.pca.fit_transform(X)\n",
    "            \n",
    "        self.new_dim = X.shape[1]\n",
    "        X_sample = X[np.random.randint(X.shape[0], size=int(np.ceil(X.shape[0] * self.sample_size))), :]\n",
    "        self.sigma_sq = np.median(pdist(X_sample, metric='sqeuclidean'))\n",
    "        \n",
    "        self.w = np.zeros(shape=(self.n_features, self.new_dim))\n",
    "\n",
    "        for n in range(self.n_features):\n",
    "#             self.w[n, :] = multivariate_normal.rvs(cov=np.eye(self.new_dim) * (1/sigma_sq))\n",
    "            self.w[n, :] = np.random.normal(loc=0, scale=1/np.sqrt(self.sigma_sq), size=self.new_dim)\n",
    "        \n",
    "        self.b = np.random.uniform(low=-np.pi, high=np.pi, size=self.n_features)\n",
    "        \n",
    "        if self.add_bias_after:\n",
    "            fi = (self.kern_function(self.w @ X.T) + self.b.reshape(self.n_features, -1)).T\n",
    "        else:\n",
    "            fi = self.kern_function(self.w @ X.T + self.b.reshape(self.n_features, -1)).T\n",
    "        \n",
    "        if self.classifier=='logreg':\n",
    "            self.clf = LogisticRegression(**self.hyper_params)\n",
    "        elif self.classifier=='svm':\n",
    "            self.clf = LinearSVC(**self.hyper_params)\n",
    "        elif self.classifier=='lgbm':\n",
    "            \n",
    "            if self.choose_hp_lgb:\n",
    "                hp_grid = {\n",
    "                    'max_depth': np.arange(2, 10),\n",
    "                    'n_estimators': [50, 100, 200, 300, 500],\n",
    "                    'learning_rate': np.linspace(0.01, 10, 100)\n",
    "                }\n",
    "\n",
    "                gb = lgbm.LGBMClassifier(**self.hyper_params)\n",
    "                skf = StratifiedKFold(n_splits=5, random_state=42, shuffle=True)\n",
    "                rsearch = RandomizedSearchCV(gb, hp_grid, cv=skf, random_state=100)\n",
    "                rsearch.fit(X_train, y_train)\n",
    "                self.hyper_params = rsearch.best_params_\n",
    "                self.hyper_params['objective'] = 'multiclass'\n",
    "\n",
    "            self.clf = lgbm.LGBMClassifier(**self.hyper_params)\n",
    "\n",
    "        self.clf.fit(fi, y)\n",
    "\n",
    "        return self\n",
    "\n",
    "    def predict_proba(self, X):\n",
    "        \"\"\"\n",
    "        Apply pipeline to obtain scores for input data.\n",
    "        \"\"\"\n",
    "        if self.use_PCA:\n",
    "            X = self.pca.transform(X)\n",
    "            \n",
    "        if self.add_bias_after:\n",
    "            fi_pred = (self.kern_function(self.w @ X.T) + self.b.reshape(self.n_features, -1)).T\n",
    "        else:\n",
    "            fi_pred = self.kern_function(self.w @ X.T + self.b.reshape(self.n_features, -1)).T\n",
    "        \n",
    "        pred = self.clf.predict_proba(fi_pred)\n",
    "        \n",
    "        return pred\n",
    "        \n",
    "    def predict(self, X):\n",
    "        \"\"\"\n",
    "        Apply pipeline to obtain discrete predictions for input data.\n",
    "        \"\"\"\n",
    "        if self.use_PCA:\n",
    "            X = self.pca.transform(X)\n",
    "        if self.add_bias_after:\n",
    "            fi_pred = (self.kern_function(self.w @ X.T) + self.b.reshape(self.n_features, -1)).T\n",
    "        else:\n",
    "            fi_pred = self.kern_function(self.w @ X.T + self.b.reshape(self.n_features, -1)).T\n",
    "        pred = self.clf.predict(fi_pred)\n",
    "        \n",
    "        return pred"
   ]
  },
  {
   "cell_type": "code",
   "execution_count": 43,
   "metadata": {
    "id": "9Neic9f7ASlj"
   },
   "outputs": [],
   "source": [
    "# Обучим с помощью градиентного бустинга и добавим к предыдущим результатам с логрегом и svm.\n",
    "\n",
    "rff_lgb = RFFPipelineFunction(\n",
    "    new_dim=new_dim, use_PCA=True, classifier='lgbm',\n",
    "    hyper_params={'objective': 'multiclass'}, choose_hp_lgb=True\n",
    ")\n",
    "\n",
    "start = time.time()\n",
    "rff_lgb.fit(x_train, y_train)\n",
    "end = time.time()\n",
    "\n",
    "pred_test = clf.predict(x_test)\n",
    "ac_lgb = accuracy_score(y_test, pred_test)\n",
    "time_lgb = end - start\n",
    "res_clf['lgbm'] = [ac_lgb, time_lgb]"
   ]
  },
  {
   "cell_type": "code",
   "execution_count": null,
   "metadata": {
    "colab": {
     "base_uri": "https://localhost:8080/",
     "height": 112
    },
    "id": "bJ1UQijGASlk",
    "outputId": "da5e4b05-8335-40e9-b122-9db7b779f53e"
   },
   "outputs": [
    {
     "data": {
      "text/html": [
       "<div>\n",
       "<style scoped>\n",
       "    .dataframe tbody tr th:only-of-type {\n",
       "        vertical-align: middle;\n",
       "    }\n",
       "\n",
       "    .dataframe tbody tr th {\n",
       "        vertical-align: top;\n",
       "    }\n",
       "\n",
       "    .dataframe thead th {\n",
       "        text-align: right;\n",
       "    }\n",
       "</style>\n",
       "<table border=\"1\" class=\"dataframe\">\n",
       "  <thead>\n",
       "    <tr style=\"text-align: right;\">\n",
       "      <th></th>\n",
       "      <th>logreg</th>\n",
       "      <th>svm</th>\n",
       "      <th>lgbm</th>\n",
       "    </tr>\n",
       "  </thead>\n",
       "  <tbody>\n",
       "    <tr>\n",
       "      <th>Accuracy</th>\n",
       "      <td>0.871200</td>\n",
       "      <td>0.865700</td>\n",
       "      <td>0.868700</td>\n",
       "    </tr>\n",
       "    <tr>\n",
       "      <th>Time</th>\n",
       "      <td>416.402739</td>\n",
       "      <td>254.555294</td>\n",
       "      <td>3064.731196</td>\n",
       "    </tr>\n",
       "  </tbody>\n",
       "</table>\n",
       "</div>"
      ],
      "text/plain": [
       "              logreg         svm         lgbm\n",
       "Accuracy    0.871200    0.865700     0.868700\n",
       "Time      416.402739  254.555294  3064.731196"
      ]
     },
     "execution_count": 24,
     "metadata": {},
     "output_type": "execute_result"
    }
   ],
   "source": [
    "res_clf"
   ]
  },
  {
   "cell_type": "markdown",
   "metadata": {
    "id": "eYpX0IxJASlk"
   },
   "source": [
    "С использованием градиентного бустинга в качестве классификатора над полученными случайными признаками Фурье качество модели практически не изменилось по сравнению с линейными классификаторами, но значительно увеличилось время обучения (также за счет подбора гиперпараметров). Получилось, что логистическая регрессия даже немного лучше разделила признаки, чем бустинг."
   ]
  },
  {
   "cell_type": "code",
   "execution_count": 25,
   "metadata": {
    "id": "5JTeer4tASll"
   },
   "outputs": [],
   "source": [
    "# В качестве других признаков используем синус, экспоненту и знак от полученных признаков.\n",
    "# И также попробуем добавлять смещение не только внутри этих функций, но и после их применения.\n",
    "functions = [np.cos, np.sin, np.exp, np.sign]\n",
    "add_bias_after = [True, False]\n",
    "diff_functions = [i for i in product(functions, add_bias_after)]"
   ]
  },
  {
   "cell_type": "code",
   "execution_count": 26,
   "metadata": {
    "id": "mGUaR0IyASll"
   },
   "outputs": [],
   "source": [
    "mask = np.random.randint(x_train.shape[0], size=int(np.ceil(x_train.shape[0] * 0.5)))\n",
    "x_train_ = x_train[mask, :]\n",
    "y_train_ = y_train[mask]"
   ]
  },
  {
   "cell_type": "code",
   "execution_count": 32,
   "metadata": {
    "colab": {
     "base_uri": "https://localhost:8080/"
    },
    "id": "jHilH7iDASlm",
    "outputId": "87a9a522-75da-4cdc-c820-1fc2982a3570"
   },
   "outputs": [
    {
     "name": "stderr",
     "output_type": "stream",
     "text": [
      "100%|██████████| 8/8 [26:35<00:00, 199.48s/it]\n"
     ]
    }
   ],
   "source": [
    "ac_func = []\n",
    "time_func = []\n",
    "\n",
    "for hp in tqdm(diff_functions):\n",
    "\n",
    "    clf = RFFPipelineFunction(\n",
    "        hyper_params={'max_iter': 500}, kern_function=hp[0], add_bias_after=hp[1]\n",
    "    )\n",
    "\n",
    "    start = time.time()\n",
    "    clf.fit(x_train_, y_train_)\n",
    "    end = time.time()\n",
    "\n",
    "    pred_test = clf.predict(x_test)\n",
    "    ac_func.append(accuracy_score(y_test, pred_test))\n",
    "    time_func.append(end - start)"
   ]
  },
  {
   "cell_type": "code",
   "execution_count": 33,
   "metadata": {
    "colab": {
     "base_uri": "https://localhost:8080/",
     "height": 129
    },
    "id": "u69vcqVOASlo",
    "outputId": "3c8f21e7-ca66-4001-9839-5a8f9ab767b3"
   },
   "outputs": [
    {
     "data": {
      "text/html": [
       "<div>\n",
       "<style scoped>\n",
       "    .dataframe tbody tr th:only-of-type {\n",
       "        vertical-align: middle;\n",
       "    }\n",
       "\n",
       "    .dataframe tbody tr th {\n",
       "        vertical-align: top;\n",
       "    }\n",
       "\n",
       "    .dataframe thead th {\n",
       "        text-align: right;\n",
       "    }\n",
       "</style>\n",
       "<table border=\"1\" class=\"dataframe\">\n",
       "  <thead>\n",
       "    <tr style=\"text-align: right;\">\n",
       "      <th></th>\n",
       "      <th>(&lt;ufunc 'cos'&gt;, True)</th>\n",
       "      <th>(&lt;ufunc 'cos'&gt;, False)</th>\n",
       "      <th>(&lt;ufunc 'sin'&gt;, True)</th>\n",
       "      <th>(&lt;ufunc 'sin'&gt;, False)</th>\n",
       "      <th>(&lt;ufunc 'exp'&gt;, True)</th>\n",
       "      <th>(&lt;ufunc 'exp'&gt;, False)</th>\n",
       "      <th>(&lt;ufunc 'sign'&gt;, True)</th>\n",
       "      <th>(&lt;ufunc 'sign'&gt;, False)</th>\n",
       "    </tr>\n",
       "  </thead>\n",
       "  <tbody>\n",
       "    <tr>\n",
       "      <th>Accuracy</th>\n",
       "      <td>0.861900</td>\n",
       "      <td>0.866700</td>\n",
       "      <td>0.851900</td>\n",
       "      <td>0.869100</td>\n",
       "      <td>0.861100</td>\n",
       "      <td>0.855500</td>\n",
       "      <td>0.812300</td>\n",
       "      <td>0.811700</td>\n",
       "    </tr>\n",
       "    <tr>\n",
       "      <th>Time</th>\n",
       "      <td>199.249507</td>\n",
       "      <td>198.575819</td>\n",
       "      <td>199.423517</td>\n",
       "      <td>197.306765</td>\n",
       "      <td>197.482533</td>\n",
       "      <td>201.127019</td>\n",
       "      <td>200.896813</td>\n",
       "      <td>197.962572</td>\n",
       "    </tr>\n",
       "  </tbody>\n",
       "</table>\n",
       "</div>"
      ],
      "text/plain": [
       "          (<ufunc 'cos'>, True)  ...  (<ufunc 'sign'>, False)\n",
       "Accuracy               0.861900  ...                 0.811700\n",
       "Time                 199.249507  ...               197.962572\n",
       "\n",
       "[2 rows x 8 columns]"
      ]
     },
     "execution_count": 33,
     "metadata": {},
     "output_type": "execute_result"
    }
   ],
   "source": [
    "index_names = ['Accuracy', 'Time']\n",
    "res_func = pd.DataFrame([ac_func, time_func], columns=diff_functions)\n",
    "res_func.index = index_names\n",
    "res_func"
   ]
  },
  {
   "cell_type": "markdown",
   "metadata": {},
   "source": [
    "Эти же результаты ниже."
   ]
  },
  {
   "cell_type": "code",
   "execution_count": 56,
   "metadata": {
    "id": "xAmbpPgipcah"
   },
   "outputs": [],
   "source": [
    "# Изначально добавляется смещение внутри функции\n",
    "\n",
    "# Код для генерации названия колонок\n",
    "add_bias_after_names = ['Bias outside', 'Bias inside']\n",
    "function_names = []\n",
    "for f in functions:\n",
    "    srt_name = str(f).split(' ')[1][1:4]\n",
    "    if srt_name == 'sig':\n",
    "        function_names.append(str(f).split(' ')[1][1:5])\n",
    "    else:\n",
    "        function_names.append(srt_name)\n",
    "\n",
    "col_names = [i for i in product(function_names, add_bias_after_names)]\n",
    "\n",
    "index_names = ['Accuracy', 'Time']\n",
    "res_func = pd.DataFrame([ac_func, time_func], columns=col_names)\n",
    "res_func.index = index_names"
   ]
  },
  {
   "cell_type": "code",
   "execution_count": 58,
   "metadata": {
    "colab": {
     "base_uri": "https://localhost:8080/",
     "height": 299
    },
    "id": "O8vPEkZoWIuK",
    "outputId": "492ddcc1-1140-4f10-81f4-94557b05d25c"
   },
   "outputs": [
    {
     "data": {
      "text/html": [
       "<div>\n",
       "<style scoped>\n",
       "    .dataframe tbody tr th:only-of-type {\n",
       "        vertical-align: middle;\n",
       "    }\n",
       "\n",
       "    .dataframe tbody tr th {\n",
       "        vertical-align: top;\n",
       "    }\n",
       "\n",
       "    .dataframe thead th {\n",
       "        text-align: right;\n",
       "    }\n",
       "</style>\n",
       "<table border=\"1\" class=\"dataframe\">\n",
       "  <thead>\n",
       "    <tr style=\"text-align: right;\">\n",
       "      <th></th>\n",
       "      <th>Accuracy</th>\n",
       "      <th>Time</th>\n",
       "    </tr>\n",
       "  </thead>\n",
       "  <tbody>\n",
       "    <tr>\n",
       "      <th>(cos, Bias outside)</th>\n",
       "      <td>0.8619</td>\n",
       "      <td>199.249507</td>\n",
       "    </tr>\n",
       "    <tr>\n",
       "      <th>(cos, Bias inside)</th>\n",
       "      <td>0.8667</td>\n",
       "      <td>198.575819</td>\n",
       "    </tr>\n",
       "    <tr>\n",
       "      <th>(sin, Bias outside)</th>\n",
       "      <td>0.8519</td>\n",
       "      <td>199.423517</td>\n",
       "    </tr>\n",
       "    <tr>\n",
       "      <th>(sin, Bias inside)</th>\n",
       "      <td>0.8691</td>\n",
       "      <td>197.306765</td>\n",
       "    </tr>\n",
       "    <tr>\n",
       "      <th>(exp, Bias outside)</th>\n",
       "      <td>0.8611</td>\n",
       "      <td>197.482533</td>\n",
       "    </tr>\n",
       "    <tr>\n",
       "      <th>(exp, Bias inside)</th>\n",
       "      <td>0.8555</td>\n",
       "      <td>201.127019</td>\n",
       "    </tr>\n",
       "    <tr>\n",
       "      <th>(sign, Bias outside)</th>\n",
       "      <td>0.8123</td>\n",
       "      <td>200.896813</td>\n",
       "    </tr>\n",
       "    <tr>\n",
       "      <th>(sign, Bias inside)</th>\n",
       "      <td>0.8117</td>\n",
       "      <td>197.962572</td>\n",
       "    </tr>\n",
       "  </tbody>\n",
       "</table>\n",
       "</div>"
      ],
      "text/plain": [
       "                      Accuracy        Time\n",
       "(cos, Bias outside)     0.8619  199.249507\n",
       "(cos, Bias inside)      0.8667  198.575819\n",
       "(sin, Bias outside)     0.8519  199.423517\n",
       "(sin, Bias inside)      0.8691  197.306765\n",
       "(exp, Bias outside)     0.8611  197.482533\n",
       "(exp, Bias inside)      0.8555  201.127019\n",
       "(sign, Bias outside)    0.8123  200.896813\n",
       "(sign, Bias inside)     0.8117  197.962572"
      ]
     },
     "execution_count": 58,
     "metadata": {},
     "output_type": "execute_result"
    }
   ],
   "source": [
    "res_func.T"
   ]
  },
  {
   "cell_type": "markdown",
   "metadata": {
    "id": "g17VeCu5WIU4"
   },
   "source": [
    "Таким образом, видно, что добавление смещения внутри функции (**bias inside**)\n",
    "\n",
    "$$\\tilde \\varphi(x) = (\n",
    "\\cos (w_1^T x + b_1),\n",
    "\\dots,\n",
    "\\cos (w_n^T x + b_n)\n",
    "),$$\n",
    "\n",
    "или после применения функции (**bias outside**)\n",
    "\n",
    "$$\\tilde \\varphi(x) = (\n",
    "\\cos (w_1^T x) + b_1,\n",
    "\\dots,\n",
    "\\cos (w_n^T x) + b_n\n",
    "),$$\n",
    "\n",
    "где $w_j \\sim \\mathcal{N}(0, 1/\\sigma^2)$, $b_j \\sim U[-\\pi, \\pi]$\n",
    "\n",
    "не сильно влияет на качество алгоритма.\n",
    "В некоторых случаях (cos, sin) лучше добавлять смещение внутри функции, а в других случаях (exp, sign) лучше добавлять его после.\n",
    "\n",
    "С разными типами функций качество незначительно меняется. У синуса доля верных ответов чуть выше по сравнению с косинусом.\n",
    "У экспоненты и знака от признаков качество получилось ниже, чем у тригонометрических функций. Все алгоритмы обучались примерно одинаковое время."
   ]
  },
  {
   "cell_type": "code",
   "execution_count": null,
   "metadata": {
    "id": "PdZ1M_y6YOdl"
   },
   "outputs": [],
   "source": []
  }
 ],
 "metadata": {
  "colab": {
   "collapsed_sections": [],
   "name": "HW2_ml2.ipynb",
   "provenance": []
  },
  "kernelspec": {
   "display_name": "Python 3",
   "language": "python",
   "name": "python3"
  },
  "language_info": {
   "codemirror_mode": {
    "name": "ipython",
    "version": 3
   },
   "file_extension": ".py",
   "mimetype": "text/x-python",
   "name": "python",
   "nbconvert_exporter": "python",
   "pygments_lexer": "ipython3",
   "version": "3.8.3"
  }
 },
 "nbformat": 4,
 "nbformat_minor": 1
}
